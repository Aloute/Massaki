{
  "nbformat": 4,
  "nbformat_minor": 0,
  "metadata": {
    "colab": {
      "provenance": [],
      "authorship_tag": "ABX9TyMtywQNIXJ/cXUPvvk63Li7",
      "include_colab_link": true
    },
    "kernelspec": {
      "name": "python3",
      "display_name": "Python 3"
    },
    "language_info": {
      "name": "python"
    }
  },
  "cells": [
    {
      "cell_type": "markdown",
      "metadata": {
        "id": "view-in-github",
        "colab_type": "text"
      },
      "source": [
        "<a href=\"https://colab.research.google.com/github/Aloute/Massaki/blob/main/Untitled8.ipynb\" target=\"_parent\"><img src=\"https://colab.research.google.com/assets/colab-badge.svg\" alt=\"Open In Colab\"/></a>"
      ]
    },
    {
      "cell_type": "code",
      "execution_count": null,
      "metadata": {
        "id": "6Rxxmcaw5JXd"
      },
      "outputs": [],
      "source": [
        "Os loops de repetição são estruturas fundamentais em programação que permitem executar um bloco de código várias vezes, com base em condições específicas. Vamos explicar como funcionam o loop for e o loop while, além de destacar a principal diferença entre eles.\n",
        "\n",
        "### Loop for\n",
        "\n",
        "O loop for é utilizado quando você sabe de antemão quantas vezes deseja repetir um bloco de código. A estrutura básica do loop for consiste em três partes:\n",
        "\n",
        "1. Inicialização: Define uma variável que servirá como contador.\n",
        "2. Condição: Uma expressão que é avaliada antes de cada iteração do loop. Se a condição for verdadeira, o bloco de código dentro do loop é executado.\n",
        "3. Incremento/Decremento: Atualiza a variável do contador após cada execução do bloco de código.\n",
        "\n",
        "Aqui está um exemplo em Python:\n",
        "\n",
        "for i in range(5):  # i começa em 0 e vai até 4\n",
        "    print(i)\n",
        "\n",
        "\n",
        "Neste exemplo, o loop for irá imprimir os números de 0 a 4. O range(5) gera uma sequência de números de 0 a 4, e a variável i assume cada um desses valores a cada iteração.\n",
        "\n",
        "### Loop while\n",
        "\n",
        "O loop while é utilizado quando você não sabe quantas vezes precisa repetir o bloco de código, mas sim uma condição que deve ser verdadeira. O loop continua executando enquanto a condição especificada for verdadeira.\n",
        "\n",
        "Aqui está um exemplo em Python:\n",
        "\n",
        "i = 0\n",
        "while i < 5:  # Enquanto i for menor que 5\n",
        "    print(i)\n",
        "    i += 1  # Incrementa i em 1 a cada iteração\n",
        "\n",
        "\n",
        "Neste exemplo, o loop while também imprimirá os números de 0 a 4, mas a condição de parada é verificada a cada iteração. Se i não for incrementado, o loop continuará indefinidamente, resultando em um loop infinito.\n",
        "\n",
        "### Principal Diferença\n",
        "\n",
        "A principal diferença entre o loop for e o loop while é a forma como a condição de repetição é tratada:\n",
        "\n",
        "- Loop for: É usado quando o número de iterações é conhecido antes do início do loop. Ele é mais adequado para percorrer sequências, como listas ou intervalos.\n",
        "\n",
        "- Loop while: É usado quando o número de iterações não é conhecido de antemão e depende de uma condição que deve ser avaliada a cada iteração. Ele é mais flexível, mas requer cuidado para evitar loops infinitos se a condição de parada não for gerenciada corretamente.\n",
        "\n",
        "Em resumo, escolha for quando você tem um número fixo de iterações e while quando a repetição deve ocorrer com base em uma condição dinâmica."
      ]
    }
  ]
}