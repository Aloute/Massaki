{
  "nbformat": 4,
  "nbformat_minor": 0,
  "metadata": {
    "colab": {
      "provenance": [],
      "authorship_tag": "ABX9TyPACn9Qcqx7mJ66QfxPlVll",
      "include_colab_link": true
    },
    "kernelspec": {
      "name": "python3",
      "display_name": "Python 3"
    },
    "language_info": {
      "name": "python"
    }
  },
  "cells": [
    {
      "cell_type": "markdown",
      "metadata": {
        "id": "view-in-github",
        "colab_type": "text"
      },
      "source": [
        "<a href=\"https://colab.research.google.com/github/Aloute/Massaki/blob/main/11set2024.ipynb\" target=\"_parent\"><img src=\"https://colab.research.google.com/assets/colab-badge.svg\" alt=\"Open In Colab\"/></a>"
      ]
    },
    {
      "cell_type": "markdown",
      "source": [
        "# **Par ou impar**"
      ],
      "metadata": {
        "id": "3XLr6NAIw0UX"
      }
    },
    {
      "cell_type": "code",
      "execution_count": 1,
      "metadata": {
        "colab": {
          "base_uri": "https://localhost:8080/"
        },
        "id": "BTfU7xopwyiq",
        "outputId": "8f117ff9-a2ea-4b72-bc86-31bb4bb6cda0"
      },
      "outputs": [
        {
          "output_type": "stream",
          "name": "stdout",
          "text": [
            "Digite um numero inteiro: 5\n",
            "O numero 5 é impar.\n"
          ]
        }
      ],
      "source": [
        "numero = int(input(\"Digite um numero inteiro: \"))\n",
        "if numero % 2 == 0:\n",
        "  print(f\"O numero {numero} é par.\")\n",
        "else:\n",
        "  print(f\"O numero {numero} é impar.\")"
      ]
    },
    {
      "cell_type": "markdown",
      "source": [
        "# **Raiz Quadrada**"
      ],
      "metadata": {
        "id": "Ja2V92cWw-dp"
      }
    },
    {
      "cell_type": "code",
      "source": [
        "import math\n",
        "numero = float(input(\"Digite um número: \"))\n",
        "if numero >= 0:\n",
        "  raiz_quadrada = math.sqrt(numero)\n",
        "  print(f\"A raiz quadrada de {numero} é {raiz_quadrada:.2f}.\")\n",
        "else:\n",
        "    print(\"Não existe raiz real para este número!\")"
      ],
      "metadata": {
        "colab": {
          "base_uri": "https://localhost:8080/"
        },
        "id": "s3E29veFxBFJ",
        "outputId": "7665c4f7-7c8a-4743-83b0-3dc9aa50309d"
      },
      "execution_count": 2,
      "outputs": [
        {
          "output_type": "stream",
          "name": "stdout",
          "text": [
            "Digite um número: 4\n",
            "A raiz quadrada de 4.0 é 2.00.\n"
          ]
        }
      ]
    },
    {
      "cell_type": "markdown",
      "source": [
        "# **Tamanho da camiseta**"
      ],
      "metadata": {
        "id": "CcXZvSYHxExh"
      }
    },
    {
      "cell_type": "code",
      "source": [
        "comprimento = float(input(\"Digite a comprimento da camiseta em centimetros: \"))\n",
        "largura = float(input(\"Digite a largura da camiseta em centimetros: \"))\n",
        "if comprimento <= 60 and largura <= 45:\n",
        "  tamanho = \"PP\"\n",
        "elif comprimento <= 65 and largura <= 48:\n",
        "  tamanho = \"P\"\n",
        "elif comprimento <= 70 and largura <= 51:\n",
        "  tamanho = \"M\"\n",
        "elif comprimento <= 75 and largura <= 54:\n",
        "  tamanho = \"G\"\n",
        "elif comprimento <= 80 and largura <= 57:\n",
        "  tamanho = \"GG\"\n",
        "else:\n",
        "  tamanho = \"XGG\"\n",
        "print(f\"O tamanho da camiseta é {tamanho}.\")"
      ],
      "metadata": {
        "colab": {
          "base_uri": "https://localhost:8080/"
        },
        "id": "36HL862oxON6",
        "outputId": "e18e4bb1-dd23-4620-9cf8-e3e1f8549aa5"
      },
      "execution_count": 3,
      "outputs": [
        {
          "output_type": "stream",
          "name": "stdout",
          "text": [
            "Digite a comprimento da camiseta em centimetros: 5\n",
            "Digite a largura da camiseta em centimetros: 5\n",
            "O tamanho da camiseta é PP.\n"
          ]
        }
      ]
    }
  ]
}