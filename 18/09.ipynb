{
  "nbformat": 4,
  "nbformat_minor": 0,
  "metadata": {
    "colab": {
      "provenance": [],
      "authorship_tag": "ABX9TyN8/Tq1hK8MwH2ueI4a89D1",
      "include_colab_link": true
    },
    "kernelspec": {
      "name": "python3",
      "display_name": "Python 3"
    },
    "language_info": {
      "name": "python"
    }
  },
  "cells": [
    {
      "cell_type": "markdown",
      "metadata": {
        "id": "view-in-github",
        "colab_type": "text"
      },
      "source": [
        "<a href=\"https://colab.research.google.com/github/Aloute/Massaki/blob/main/18/09.ipynb\" target=\"_parent\"><img src=\"https://colab.research.google.com/assets/colab-badge.svg\" alt=\"Open In Colab\"/></a>"
      ]
    },
    {
      "cell_type": "code",
      "execution_count": null,
      "metadata": {
        "id": "ypZH3Mn4ogwc"
      },
      "outputs": [],
      "source": []
    },
    {
      "cell_type": "code",
      "source": [],
      "metadata": {
        "id": "l3stEFoUo3bK"
      },
      "execution_count": null,
      "outputs": []
    },
    {
      "cell_type": "markdown",
      "source": [
        "02) Dadas as notas a e b de um aluno, com pesos\n",
        "respectivamente 2 e 3; pede-se elaborar um programa em Python para calcular e exibir\n",
        "a média ponderada do aluno, verificar e informar, junto ao valor da sua média, se foi\n",
        "aprovado ou não (OBS: Considere aprovado se obtiver média igual ou superior a 5).\n",
        "03) Dado o algoritmo a seguir, elabore o código python do programa em questão"
      ],
      "metadata": {
        "id": "EafJNjaIqu40"
      }
    },
    {
      "cell_type": "code",
      "source": [
        "from pickle import FLOAT\n",
        "a = float(input(\"digite nota a\"))\n",
        "b = float(input(\"digite nota b\"))\n",
        "m = (2*a + 3*b)/(2+3)\n",
        "if m >=5:\n",
        " print(\"aprovado\")\n",
        "else:\n",
        " print(\"reprovado\")\n"
      ],
      "metadata": {
        "colab": {
          "base_uri": "https://localhost:8080/"
        },
        "id": "DzFocmvKq4zV",
        "outputId": "ea920d23-592f-4a2a-c9b2-1ff25df17c10"
      },
      "execution_count": 27,
      "outputs": [
        {
          "output_type": "stream",
          "name": "stdout",
          "text": [
            "digite nota a5\n",
            "digite nota b5\n",
            "aprovado\n"
          ]
        }
      ]
    },
    {
      "cell_type": "markdown",
      "source": [
        "01) Elaborar um programa em python que solicite ao\n",
        "usuário um valor inteiro e em seguida informe ao usuário se o valor é múltiplo de 3 ou não.\n"
      ],
      "metadata": {
        "id": "CLWSS7qjyYlu"
      }
    },
    {
      "cell_type": "code",
      "source": [
        "numero = int(input(\"Digite um numero inteiro: \"))\n",
        "if numero % 3 == 0:\n",
        "  print(f\"o numero {numero} é multiplo.\")\n",
        "else:\n",
        "  print(f\"o numero {numero} Nao Multiplo.\")"
      ],
      "metadata": {
        "colab": {
          "base_uri": "https://localhost:8080/"
        },
        "id": "155ubDBFpO3F",
        "outputId": "6685e400-743b-4ff5-eecd-561dd7182210"
      },
      "execution_count": 7,
      "outputs": [
        {
          "output_type": "stream",
          "name": "stdout",
          "text": [
            "Digite um numero inteiro: 5\n",
            "o numero 5 Nao Multiplo.\n"
          ]
        }
      ]
    }
  ]
}