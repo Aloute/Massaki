{
  "nbformat": 4,
  "nbformat_minor": 0,
  "metadata": {
    "colab": {
      "provenance": [],
      "authorship_tag": "ABX9TyNixDWu1KkhA3GuI8sQYgxZ",
      "include_colab_link": true
    },
    "kernelspec": {
      "name": "python3",
      "display_name": "Python 3"
    },
    "language_info": {
      "name": "python"
    }
  },
  "cells": [
    {
      "cell_type": "markdown",
      "metadata": {
        "id": "view-in-github",
        "colab_type": "text"
      },
      "source": [
        "<a href=\"https://colab.research.google.com/github/Aloute/Massaki/blob/main/Untitled5.ipynb\" target=\"_parent\"><img src=\"https://colab.research.google.com/assets/colab-badge.svg\" alt=\"Open In Colab\"/></a>"
      ]
    },
    {
      "cell_type": "code",
      "execution_count": null,
      "metadata": {
        "id": "gKH_1x5auSx9"
      },
      "outputs": [],
      "source": [
        "O erro que foi cometido pelo programador é visto na parte do pseudocódigo na linha que calcula a temperatura em Fahrenheit\n",
        " F= (9/5*C) + '32'\n",
        "Variável F foi declarada como caracter, enquanto deveria ser número, o valor ‘32’ está entre aspas então ele é tratado como uma string e não como um numero.\n",
        "O comando certo teria que ser assim:\n",
        "\n",
        "\n",
        "\n",
        "\n",
        "deveria ser 32"
      ]
    },
    {
      "cell_type": "code",
      "source": [
        "Pseudocódigo: Uma representação textual que descreve a lógica do algoritmo de forma clara e legível\n",
        "\n",
        "Fluxograma: Uma representação gráfica que utiliza formas geométricas para ilustrar o fluxo do algoritmo\n",
        "\n",
        "Código Fonte: A implementação do algoritmo em uma linguagem de programação específica, como Python\n",
        "\n",
        "Exemplo de pseudocódigo:\n",
        "Leia (x,y) {Esta linha é um comentário}\n",
        "Se x > y então\n",
        "      Escreva (“x é maior”)\n",
        "Senão\n",
        "Se y > x então\n",
        "       Escreva (“y é maior”)\n",
        "Senão\n",
        "      Escreva (“x e Y são iguais”)\n",
        "Fim\n"
      ],
      "metadata": {
        "id": "EjulUVaEuxan"
      },
      "execution_count": null,
      "outputs": []
    },
    {
      "cell_type": "code",
      "source": [
        "Int são números inteiros, ou seja, números sem parte decimal.\n",
        "Float são números racionais, que podem ter parte decimal.\n",
        "Str são sequências de caracteres, ou seja, textos.\n",
        "Bool são valores lógicos, que podem ser verdadeiro (true) ou falso (false).\n",
        "\n"
      ],
      "metadata": {
        "id": "05I4yBlGu1js"
      },
      "execution_count": null,
      "outputs": []
    }
  ]
}